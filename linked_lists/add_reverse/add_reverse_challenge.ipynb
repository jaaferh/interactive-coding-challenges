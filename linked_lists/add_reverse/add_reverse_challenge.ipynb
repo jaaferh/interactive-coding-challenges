{
 "cells": [
  {
   "cell_type": "markdown",
   "metadata": {},
   "source": [
    "This notebook was prepared by [Donne Martin](http://donnemartin.com). Source and license info is on [GitHub](https://github.com/donnemartin/interactive-coding-challenges)."
   ]
  },
  {
   "cell_type": "markdown",
   "metadata": {},
   "source": [
    "# Challenge Notebook"
   ]
  },
  {
   "cell_type": "markdown",
   "metadata": {},
   "source": [
    "## Problem: Add two numbers whose digits are stored in a linked list in reverse order.\n",
    "\n",
    "* [Constraints](#Constraints)\n",
    "* [Test Cases](#Test-Cases)\n",
    "* [Algorithm](#Algorithm)\n",
    "* [Code](#Code)\n",
    "* [Unit Test](#Unit-Test)\n",
    "* [Solution Notebook](#Solution-Notebook)"
   ]
  },
  {
   "cell_type": "markdown",
   "metadata": {},
   "source": [
    "## Constraints\n",
    "\n",
    "* Can we assume this is a non-circular, singly linked list?\n",
    "    * Yes\n",
    "* Do we expect the return to be in reverse order too?\n",
    "    * Yes\n",
    "* What if one of the inputs is None?\n",
    "    * Return None for an invalid operation\n",
    "* How large are these numbers--can they fit in memory?\n",
    "    * Yes\n",
    "* Can we assume we already have a linked list class that can be used for this problem?\n",
    "    * Yes\n",
    "* Can we assume this fits in memory?\n",
    "    * Yes"
   ]
  },
  {
   "cell_type": "markdown",
   "metadata": {},
   "source": [
    "## Test Cases\n",
    "\n",
    "* Empty list(s) -> None\n",
    "* Add values of different lengths\n",
    "    * Input 1: 6->5->None\n",
    "    * Input 2: 9->8->7\n",
    "    * Result: 5->4->8\n",
    "* Add values of same lengths\n",
    "    * Exercised from values of different lengths\n",
    "    * Done here for completeness"
   ]
  },
  {
   "cell_type": "markdown",
   "metadata": {},
   "source": [
    "## Algorithm\n",
    "\n",
    "Refer to the [Solution Notebook](http://nbviewer.ipython.org/github/donnemartin/interactive-coding-challenges/blob/master/linked_lists/add_reverse/add_reverse_solution.ipynb).  If you are stuck and need a hint, the solution notebook's algorithm discussion might be a good place to start."
   ]
  },
  {
   "cell_type": "markdown",
   "metadata": {},
   "source": [
    "## Code"
   ]
  },
  {
   "cell_type": "code",
   "execution_count": 1,
   "metadata": {
    "collapsed": true
   },
   "outputs": [],
   "source": [
    "# %load ../linked_list/linked_list.py\n",
    "class Node(object):\n",
    "\n",
    "    def __init__(self, data, next=None):\n",
    "        self.next = next\n",
    "        self.data = data\n",
    "\n",
    "    def __str__(self):\n",
    "        return self.data\n",
    "\n",
    "\n",
    "class LinkedList(object):\n",
    "\n",
    "    def __init__(self, head=None):\n",
    "        self.head = head\n",
    "\n",
    "    def __len__(self):\n",
    "        curr = self.head\n",
    "        counter = 0\n",
    "        while curr is not None:\n",
    "            counter += 1\n",
    "            curr = curr.next\n",
    "        return counter\n",
    "\n",
    "    def insert_to_front(self, data):\n",
    "        if data is None:\n",
    "            return None\n",
    "        node = Node(data, self.head)\n",
    "        self.head = node\n",
    "        return node\n",
    "\n",
    "    def append(self, data):\n",
    "        if data is None:\n",
    "            return None\n",
    "        node = Node(data)\n",
    "        if self.head is None:\n",
    "            self.head = node\n",
    "            return node\n",
    "        curr_node = self.head\n",
    "        while curr_node.next is not None:\n",
    "            curr_node = curr_node.next\n",
    "        curr_node.next = node\n",
    "        return node\n",
    "\n",
    "    def find(self, data):\n",
    "        if data is None:\n",
    "            return None\n",
    "        curr_node = self.head\n",
    "        while curr_node is not None:\n",
    "            if curr_node.data == data:\n",
    "                return curr_node\n",
    "            curr_node = curr_node.next\n",
    "        return None\n",
    "\n",
    "    def delete(self, data):\n",
    "        if data is None:\n",
    "            return\n",
    "        if self.head is None:\n",
    "            return\n",
    "        if self.head.data == data:\n",
    "            self.head = self.head.next\n",
    "            return\n",
    "        prev_node = self.head\n",
    "        curr_node = self.head.next\n",
    "        while curr_node is not None:\n",
    "            if curr_node.data == data:\n",
    "                prev_node.next = curr_node.next\n",
    "                return\n",
    "            prev_node = curr_node\n",
    "            curr_node = curr_node.next\n",
    "\n",
    "    def delete_alt(self, data):\n",
    "        if data is None:\n",
    "            return\n",
    "        if self.head is None:\n",
    "            return\n",
    "        curr_node = self.head\n",
    "        if curr_node.data == data:\n",
    "            curr_node = curr_node.next\n",
    "            return\n",
    "        while curr_node.next is not None:\n",
    "            if curr_node.next.data == data:\n",
    "                curr_node.next = curr_node.next.next\n",
    "                return\n",
    "            curr_node = curr_node.next\n",
    "\n",
    "    def print_list(self):\n",
    "        curr_node = self.head\n",
    "        while curr_node is not None:\n",
    "            print(curr_node.data)\n",
    "            curr_node = curr_node.next\n",
    "\n",
    "    def get_all_data(self):\n",
    "        data = []\n",
    "        curr_node = self.head\n",
    "        while curr_node is not None:\n",
    "            data.append(curr_node.data)\n",
    "            curr_node = curr_node.next\n",
    "        return data\n"
   ]
  },
  {
   "cell_type": "code",
   "execution_count": 30,
   "metadata": {},
   "outputs": [],
   "source": [
    "class MyLinkedList(LinkedList):\n",
    "\n",
    "    def add_reverse(self, first_list, second_list):\n",
    "          \n",
    "        res = LinkedList()\n",
    "        # res_head = res.head\n",
    "        curr1 = None if first_list == None or not isinstance(first_list, LinkedList) else first_list.head\n",
    "        curr2 = None if second_list == None or not isinstance(first_list, LinkedList) else second_list.head\n",
    "\n",
    "        carry = 0\n",
    "        while curr1 != None or curr2 != None:\n",
    "            data1 = 0 if curr1 == None else curr1.data\n",
    "            data2 = 0 if curr2 == None else curr2.data\n",
    "            num_sum = data1 + data2 + carry\n",
    "            carry = num_sum // 10 if num_sum > 9 else 0\n",
    "            res.append(num_sum % 10)\n",
    "\n",
    "            if curr1 != None:\n",
    "                curr1 = curr1.next\n",
    "            if curr2 != None:\n",
    "                curr2 = curr2.next\n",
    "        \n",
    "        if carry > 0:\n",
    "            res.append(carry)\n",
    "\n",
    "        return None if res.head == None else res"
   ]
  },
  {
   "cell_type": "markdown",
   "metadata": {},
   "source": [
    "## Unit Test"
   ]
  },
  {
   "cell_type": "markdown",
   "metadata": {},
   "source": [
    "\n",
    "\n",
    "**The following unit test is expected to fail until you solve the challenge.**"
   ]
  },
  {
   "cell_type": "code",
   "execution_count": 31,
   "metadata": {},
   "outputs": [
    {
     "name": "stdout",
     "output_type": "stream",
     "text": [
      "Test: Empty list(s)\n",
      "Test: Add values of different lengths\n"
     ]
    },
    {
     "ename": "AssertionError",
     "evalue": "Lists differ: [None, 5, 4, 8] != [5, 4, 8]\n\nFirst differing element 0:\nNone\n5\n\nFirst list contains 1 additional elements.\nFirst extra element 3:\n8\n\n- [None, 5, 4, 8]\n?  ------\n\n+ [5, 4, 8]",
     "output_type": "error",
     "traceback": [
      "\u001b[1;31m---------------------------------------------------------------------------\u001b[0m",
      "\u001b[1;31mAssertionError\u001b[0m                            Traceback (most recent call last)",
      "Cell \u001b[1;32mIn [31], line 49\u001b[0m\n\u001b[0;32m     45\u001b[0m     test\u001b[39m.\u001b[39mtest_add_reverse()\n\u001b[0;32m     48\u001b[0m \u001b[39mif\u001b[39;00m \u001b[39m__name__\u001b[39m \u001b[39m==\u001b[39m \u001b[39m'\u001b[39m\u001b[39m__main__\u001b[39m\u001b[39m'\u001b[39m:\n\u001b[1;32m---> 49\u001b[0m     main()\n",
      "Cell \u001b[1;32mIn [31], line 45\u001b[0m, in \u001b[0;36mmain\u001b[1;34m()\u001b[0m\n\u001b[0;32m     43\u001b[0m \u001b[39mdef\u001b[39;00m \u001b[39mmain\u001b[39m():\n\u001b[0;32m     44\u001b[0m     test \u001b[39m=\u001b[39m TestAddReverse()\n\u001b[1;32m---> 45\u001b[0m     test\u001b[39m.\u001b[39;49mtest_add_reverse()\n",
      "Cell \u001b[1;32mIn [31], line 23\u001b[0m, in \u001b[0;36mTestAddReverse.test_add_reverse\u001b[1;34m(self)\u001b[0m\n\u001b[0;32m     21\u001b[0m second_list\u001b[39m.\u001b[39mappend(\u001b[39m7\u001b[39m)\n\u001b[0;32m     22\u001b[0m result \u001b[39m=\u001b[39m MyLinkedList()\u001b[39m.\u001b[39madd_reverse(first_list, second_list)\n\u001b[1;32m---> 23\u001b[0m \u001b[39mself\u001b[39;49m\u001b[39m.\u001b[39;49massertEqual(result\u001b[39m.\u001b[39;49mget_all_data(), [\u001b[39m5\u001b[39;49m, \u001b[39m4\u001b[39;49m, \u001b[39m8\u001b[39;49m])\n\u001b[0;32m     25\u001b[0m \u001b[39mprint\u001b[39m(\u001b[39m'\u001b[39m\u001b[39mTest: Add values of same lengths\u001b[39m\u001b[39m'\u001b[39m)\n\u001b[0;32m     26\u001b[0m \u001b[39m# Input 1: 6->5->4\u001b[39;00m\n\u001b[0;32m     27\u001b[0m \u001b[39m# Input 2: 9->8->7\u001b[39;00m\n\u001b[0;32m     28\u001b[0m \u001b[39m# Result: 5->4->2->1\u001b[39;00m\n",
      "File \u001b[1;32mc:\\Users\\Jaafer\\AppData\\Local\\Programs\\Python\\Python310\\lib\\unittest\\case.py:845\u001b[0m, in \u001b[0;36mTestCase.assertEqual\u001b[1;34m(self, first, second, msg)\u001b[0m\n\u001b[0;32m    841\u001b[0m \u001b[39m\"\"\"Fail if the two objects are unequal as determined by the '=='\u001b[39;00m\n\u001b[0;32m    842\u001b[0m \u001b[39m   operator.\u001b[39;00m\n\u001b[0;32m    843\u001b[0m \u001b[39m\"\"\"\u001b[39;00m\n\u001b[0;32m    844\u001b[0m assertion_func \u001b[39m=\u001b[39m \u001b[39mself\u001b[39m\u001b[39m.\u001b[39m_getAssertEqualityFunc(first, second)\n\u001b[1;32m--> 845\u001b[0m assertion_func(first, second, msg\u001b[39m=\u001b[39;49mmsg)\n",
      "File \u001b[1;32mc:\\Users\\Jaafer\\AppData\\Local\\Programs\\Python\\Python310\\lib\\unittest\\case.py:1051\u001b[0m, in \u001b[0;36mTestCase.assertListEqual\u001b[1;34m(self, list1, list2, msg)\u001b[0m\n\u001b[0;32m   1041\u001b[0m \u001b[39mdef\u001b[39;00m \u001b[39massertListEqual\u001b[39m(\u001b[39mself\u001b[39m, list1, list2, msg\u001b[39m=\u001b[39m\u001b[39mNone\u001b[39;00m):\n\u001b[0;32m   1042\u001b[0m     \u001b[39m\"\"\"A list-specific equality assertion.\u001b[39;00m\n\u001b[0;32m   1043\u001b[0m \n\u001b[0;32m   1044\u001b[0m \u001b[39m    Args:\u001b[39;00m\n\u001b[1;32m   (...)\u001b[0m\n\u001b[0;32m   1049\u001b[0m \n\u001b[0;32m   1050\u001b[0m \u001b[39m    \"\"\"\u001b[39;00m\n\u001b[1;32m-> 1051\u001b[0m     \u001b[39mself\u001b[39;49m\u001b[39m.\u001b[39;49massertSequenceEqual(list1, list2, msg, seq_type\u001b[39m=\u001b[39;49m\u001b[39mlist\u001b[39;49m)\n",
      "File \u001b[1;32mc:\\Users\\Jaafer\\AppData\\Local\\Programs\\Python\\Python310\\lib\\unittest\\case.py:1033\u001b[0m, in \u001b[0;36mTestCase.assertSequenceEqual\u001b[1;34m(self, seq1, seq2, msg, seq_type)\u001b[0m\n\u001b[0;32m   1031\u001b[0m standardMsg \u001b[39m=\u001b[39m \u001b[39mself\u001b[39m\u001b[39m.\u001b[39m_truncateMessage(standardMsg, diffMsg)\n\u001b[0;32m   1032\u001b[0m msg \u001b[39m=\u001b[39m \u001b[39mself\u001b[39m\u001b[39m.\u001b[39m_formatMessage(msg, standardMsg)\n\u001b[1;32m-> 1033\u001b[0m \u001b[39mself\u001b[39;49m\u001b[39m.\u001b[39;49mfail(msg)\n",
      "File \u001b[1;32mc:\\Users\\Jaafer\\AppData\\Local\\Programs\\Python\\Python310\\lib\\unittest\\case.py:675\u001b[0m, in \u001b[0;36mTestCase.fail\u001b[1;34m(self, msg)\u001b[0m\n\u001b[0;32m    673\u001b[0m \u001b[39mdef\u001b[39;00m \u001b[39mfail\u001b[39m(\u001b[39mself\u001b[39m, msg\u001b[39m=\u001b[39m\u001b[39mNone\u001b[39;00m):\n\u001b[0;32m    674\u001b[0m     \u001b[39m\"\"\"Fail immediately, with the given message.\"\"\"\u001b[39;00m\n\u001b[1;32m--> 675\u001b[0m     \u001b[39mraise\u001b[39;00m \u001b[39mself\u001b[39m\u001b[39m.\u001b[39mfailureException(msg)\n",
      "\u001b[1;31mAssertionError\u001b[0m: Lists differ: [None, 5, 4, 8] != [5, 4, 8]\n\nFirst differing element 0:\nNone\n5\n\nFirst list contains 1 additional elements.\nFirst extra element 3:\n8\n\n- [None, 5, 4, 8]\n?  ------\n\n+ [5, 4, 8]"
     ]
    }
   ],
   "source": [
    "# %load test_add_reverse.py\n",
    "import unittest\n",
    "\n",
    "\n",
    "class TestAddReverse(unittest.TestCase):\n",
    "\n",
    "    def test_add_reverse(self):\n",
    "        print('Test: Empty list(s)')\n",
    "        self.assertEqual(MyLinkedList().add_reverse(None, None), None)\n",
    "        self.assertEqual(MyLinkedList().add_reverse(Node(5), None), None)\n",
    "        self.assertEqual(MyLinkedList().add_reverse(None, Node(10)), None)\n",
    "\n",
    "        print('Test: Add values of different lengths')\n",
    "        # Input 1: 6->5->None\n",
    "        # Input 2: 9->8->7\n",
    "        # Result: 5->4->8\n",
    "        first_list = MyLinkedList(Node(6))\n",
    "        first_list.append(5)\n",
    "        second_list = MyLinkedList(Node(9))\n",
    "        second_list.append(8)\n",
    "        second_list.append(7)\n",
    "        result = MyLinkedList().add_reverse(first_list, second_list)\n",
    "        self.assertEqual(result.get_all_data(), [5, 4, 8])\n",
    "\n",
    "        print('Test: Add values of same lengths')\n",
    "        # Input 1: 6->5->4\n",
    "        # Input 2: 9->8->7\n",
    "        # Result: 5->4->2->1\n",
    "        first_head = Node(6)\n",
    "        first_list = MyLinkedList(first_head)\n",
    "        first_list.append(5)\n",
    "        first_list.append(4)\n",
    "        second_head = Node(9)\n",
    "        second_list = MyLinkedList(second_head)\n",
    "        second_list.append(8)\n",
    "        second_list.append(7)\n",
    "        result = MyLinkedList().add_reverse(first_list, second_list)\n",
    "        self.assertEqual(result.get_all_data(), [5, 4, 2, 1])\n",
    "\n",
    "        print('Success: test_add_reverse')\n",
    "\n",
    "\n",
    "def main():\n",
    "    test = TestAddReverse()\n",
    "    test.test_add_reverse()\n",
    "\n",
    "\n",
    "if __name__ == '__main__':\n",
    "    main()"
   ]
  },
  {
   "cell_type": "markdown",
   "metadata": {},
   "source": [
    "## Solution Notebook\n",
    "\n",
    "Review the [Solution Notebook](http://nbviewer.ipython.org/github/donnemartin/interactive-coding-challenges/blob/master/linked_lists/add_reverse/add_reverse_solution.ipynb) for a discussion on algorithms and code solutions."
   ]
  }
 ],
 "metadata": {
  "kernelspec": {
   "display_name": "Python 3.10.1 64-bit",
   "language": "python",
   "name": "python3"
  },
  "language_info": {
   "codemirror_mode": {
    "name": "ipython",
    "version": 3
   },
   "file_extension": ".py",
   "mimetype": "text/x-python",
   "name": "python",
   "nbconvert_exporter": "python",
   "pygments_lexer": "ipython3",
   "version": "3.10.7"
  },
  "vscode": {
   "interpreter": {
    "hash": "7ad77ccbc4b9ebba1333a6fefd71d9c9ad0ccd5ccf05ed4c268d7e24f6502afb"
   }
  }
 },
 "nbformat": 4,
 "nbformat_minor": 1
}
